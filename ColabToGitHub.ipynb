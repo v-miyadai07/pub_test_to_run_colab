{
  "cells": [
    {
      "cell_type": "markdown",
      "metadata": {
        "id": "view-in-github",
        "colab_type": "text"
      },
      "source": [
        "<a href=\"https://colab.research.google.com/github/v-miyadai07/pub_test_to_run_colab/blob/dev/ColabToGitHub.ipynb\" target=\"_parent\"><img src=\"https://colab.research.google.com/assets/colab-badge.svg\" alt=\"Open In Colab\"/></a>"
      ]
    },
    {
      "cell_type": "markdown",
      "metadata": {
        "id": "aqbQ2r0NuckS"
      },
      "source": [
        "# ColabからGitHubに保存する実験\n",
        "参考：https://kewton.blog/archives/536\n",
        "\n",
        "残念ながらPublicリポジトリにしか保存できなかった\n",
        "\n",
        "いや、できたかもしれない。まずはローカルで編集できるかの確認をする。\n",
        "\n",
        "ブランチ保護が効くか実験→効かなかったので承認人数を増やしてみた"
      ]
    },
    {
      "cell_type": "code",
      "execution_count": null,
      "metadata": {
        "colab": {
          "base_uri": "https://localhost:8080/"
        },
        "id": "qvqz7yM9ubjZ",
        "outputId": "9dd48291-e7aa-49b1-c952-8203a77a8785"
      },
      "outputs": [
        {
          "data": {
            "text/plain": [
              "2"
            ]
          },
          "execution_count": 1,
          "metadata": {},
          "output_type": "execute_result"
        }
      ],
      "source": [
        "1+1"
      ]
    },
    {
      "cell_type": "code",
      "execution_count": 2,
      "metadata": {
        "id": "DHneo3kXuoUB"
      },
      "outputs": [],
      "source": [
        "import random"
      ]
    },
    {
      "cell_type": "code",
      "execution_count": 3,
      "metadata": {
        "id": "65__qHXWJpjY",
        "outputId": "cef06a93-47bb-4d8b-bc2a-eddcaf03bd1b",
        "colab": {
          "base_uri": "https://localhost:8080/"
        }
      },
      "outputs": [
        {
          "output_type": "stream",
          "name": "stdout",
          "text": [
            "ohayo\n"
          ]
        }
      ],
      "source": [
        "random.random()\n",
        "print(\"ohayo\")"
      ]
    }
  ],
  "metadata": {
    "colab": {
      "provenance": [],
      "include_colab_link": true
    },
    "kernelspec": {
      "display_name": "Python 3",
      "language": "python",
      "name": "python3"
    },
    "language_info": {
      "codemirror_mode": {
        "name": "ipython",
        "version": 3
      },
      "file_extension": ".py",
      "mimetype": "text/x-python",
      "name": "python",
      "nbconvert_exporter": "python",
      "pygments_lexer": "ipython3",
      "version": "3.13.5"
    }
  },
  "nbformat": 4,
  "nbformat_minor": 0
}